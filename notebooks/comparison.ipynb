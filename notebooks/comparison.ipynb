{
 "cells": [
  {
   "cell_type": "markdown",
   "metadata": {
    "slideshow": {
     "slide_type": "slide"
    }
   },
   "source": [
    "# Prior estimation"
   ]
  },
  {
   "cell_type": "code",
   "execution_count": 1,
   "metadata": {
    "slideshow": {
     "slide_type": "slide"
    }
   },
   "outputs": [
    {
     "name": "stderr",
     "output_type": "stream",
     "text": [
      "\u001b[1m\u001b[36mINFO: \u001b[39m\u001b[22m\u001b[36mRecompiling stale cache file /Users/alex/.julia/lib/v0.6/Seaborn.ji for module Seaborn.\n",
      "\u001b[39m"
     ]
    }
   ],
   "source": [
    "using MAT\n",
    "include(\"../src/main.jl\")\n",
    "OPTCONFIG=OptConfig(XTOLABS=1e-8, DEBUG=true);"
   ]
  },
  {
   "cell_type": "code",
   "execution_count": 2,
   "metadata": {},
   "outputs": [
    {
     "data": {
      "text/plain": [
       "plt2mat (generic function with 1 method)"
      ]
     },
     "execution_count": 2,
     "metadata": {},
     "output_type": "execute_result"
    }
   ],
   "source": [
    "using MAT\n",
    "function plt2mat(p, filename)\n",
    "    d = [(filter(isalpha, l[:get_label]()), hcat(l[:get_data]()...)) for a in p[:axes] for l in a[:lines] ] |> Dict\n",
    "    matwrite(filename, d)\n",
    "end"
   ]
  },
  {
   "cell_type": "code",
   "execution_count": 3,
   "metadata": {},
   "outputs": [
    {
     "data": {
      "text/plain": [
       "true"
      ]
     },
     "execution_count": 3,
     "metadata": {},
     "output_type": "execute_result"
    }
   ],
   "source": [
    "# enable pyplot-latex\n",
    "PyCall.PyDict(PyPlot.matplotlib[\"rcParams\"])[\"text.usetex\"] = true"
   ]
  },
  {
   "cell_type": "markdown",
   "metadata": {},
   "source": [
    "## The Model"
   ]
  },
  {
   "cell_type": "code",
   "execution_count": 4,
   "metadata": {},
   "outputs": [
    {
     "data": {
      "text/plain": [
       "Transformation(#84, #85)"
      ]
     },
     "execution_count": 4,
     "metadata": {},
     "output_type": "execute_result"
    }
   ],
   "source": [
    "# exponential\n",
    "xlims = (0,4)\n",
    "n = 200 # was 500\n",
    "ndata = 100\n",
    "σ = 0.3\n",
    "prior = Truncated(MixtureModel([Normal(mu, .5) for mu in [1, 3]]), xlims...)\n",
    "\n",
    "\n",
    "t    = Transformation(x->exp(x), x->log(x))"
   ]
  },
  {
   "cell_type": "code",
   "execution_count": 5,
   "metadata": {
    "slideshow": {
     "slide_type": "slide"
    }
   },
   "outputs": [
    {
     "data": {
      "text/plain": [
       "FEModel(ft, 1.0:0.2693374373524836:54.598150033144236, 0.3)"
      ]
     },
     "execution_count": 5,
     "metadata": {},
     "output_type": "execute_result"
    }
   ],
   "source": [
    "randseed=90\n",
    "srand(randseed)\n",
    "#srand(2)\n",
    "m = FEModel(f=x->x, xs=linspace(xlims...,n), σ=σ)\n",
    "d = generatedata(m, prior, ndata);\n",
    "mt   = transformmodel(m, t)"
   ]
  },
  {
   "cell_type": "code",
   "execution_count": 6,
   "metadata": {
    "slideshow": {
     "slide_type": "-"
    }
   },
   "outputs": [],
   "source": [
    "ncv = 20\n",
    "kfold = length(d);"
   ]
  },
  {
   "cell_type": "code",
   "execution_count": 7,
   "metadata": {},
   "outputs": [
    {
     "data": {
      "text/plain": [
       "([0, 4], [0.0, 0.6], [1, 55], [0.0, 0.2])"
      ]
     },
     "execution_count": 7,
     "metadata": {},
     "output_type": "execute_result"
    }
   ],
   "source": [
    "lims = ([0,4],[0,.6],[1,55], [0,.2])"
   ]
  },
  {
   "cell_type": "markdown",
   "metadata": {
    "slideshow": {
     "slide_type": "slide"
    }
   },
   "source": [
    "## Results"
   ]
  },
  {
   "cell_type": "code",
   "execution_count": 8,
   "metadata": {},
   "outputs": [
    {
     "data": {
      "text/plain": [
       "(3.2, 1.9200000000000004)"
      ]
     },
     "execution_count": 8,
     "metadata": {},
     "output_type": "execute_result"
    }
   ],
   "source": [
    "figsize=(4*0.8,3*0.8*0.8)"
   ]
  },
  {
   "cell_type": "code",
   "execution_count": null,
   "metadata": {
    "scrolled": false,
    "slideshow": {
     "slide_type": "-"
    }
   },
   "outputs": [],
   "source": [
    "## er estimator\n",
    "regs = [ReferenceRegularizer(m, γ) for γ in linspace(0.1,1,ncv)]\n",
    "@time ss = [cvscore(m, d, d->ebprior(m, d, r), kfold) for r in regs]\n",
    "plot([r.γ for r in regs], ss)\n",
    "regR = regs[indmax(ss)].γ"
   ]
  },
  {
   "cell_type": "code",
   "execution_count": null,
   "metadata": {
    "scrolled": false,
    "slideshow": {
     "slide_type": "-"
    }
   },
   "outputs": [],
   "source": [
    "## er estimator transformed\n",
    "regs = [ReferenceRegularizer(mt, γ) for γ in linspace(0.1,1,ncv)]\n",
    "@time ss = [cvscore(mt, d, d->ebprior(mt, d, r), kfold) for r in regs]\n",
    "plot([r.γ for r in regs], ss)\n",
    "regRt = regs[indmax(ss)].γ"
   ]
  },
  {
   "cell_type": "code",
   "execution_count": null,
   "metadata": {
    "scrolled": false
   },
   "outputs": [],
   "source": [
    "wR  = ebprior(m,  d, ReferenceRegularizer(m,  regR))\n",
    "wRt = ebprior(mt, d, ReferenceRegularizer(mt, regRt))\n",
    "\n",
    "p1, p2 = compareplot(m, t, pdf.(prior, m.xs), wR, wRt, \"er\", lims...; figsize=figsize, savename=\"eb$randseed\")\n",
    "\n",
    "plt2mat(p1, \"er.mat\")\n",
    "plt2mat(p2, \"erT.mat\")"
   ]
  },
  {
   "cell_type": "code",
   "execution_count": null,
   "metadata": {},
   "outputs": [],
   "source": [
    "## thik estimator\n",
    "regs = [ThikonovRegularizer(γ) for γ in linspace(1,80,ncv)]\n",
    "@time ss = [cvscore(m, d, d->ebprior(m, d, r), kfold) for r in regs]\n",
    "plot([r.γ for r in regs], ss)\n",
    "regT = regs[indmax(ss)].γ"
   ]
  },
  {
   "cell_type": "code",
   "execution_count": null,
   "metadata": {},
   "outputs": [],
   "source": [
    "## thik estimator transformed\n",
    "regs = [ThikonovRegularizer(γ) for γ in linspace(1,200,ncv)]\n",
    "@time ss = [cvscore(mt, d, d->ebprior(mt, d, r), kfold) for r in regs]\n",
    "plot([r.γ for r in regs], ss)\n",
    "regTt = regs[indmax(ss)].γ"
   ]
  },
  {
   "cell_type": "code",
   "execution_count": null,
   "metadata": {},
   "outputs": [],
   "source": [
    "wT = ebprior(m,  d, ThikonovRegularizer(regT))\n",
    "wTt = ebprior(mt, d, ThikonovRegularizer(regTt))\n",
    "\n",
    "p1, p2 = compareplot(m, t, pdf.(prior, m.xs), wT, wTt, \"L^2\", lims...; figsize=figsize, savename=\"l2$randseed\")"
   ]
  },
  {
   "cell_type": "code",
   "execution_count": null,
   "metadata": {},
   "outputs": [],
   "source": [
    "wT = ebprior(m,  d, ThikonovRegularizer(regT))\n",
    "wTto = ebprior(mt, d, ThikonovRegularizer(regT))\n",
    "\n",
    "p1,p2 = compareplot(m, t, pdf.(prior, m.xs), wT, wTto, \"L^2\", lims...; figsize=figsize, savename=\"l2gammafix$randseed\")\n",
    "\n",
    "plt2mat(p1, \"l2.mat\")\n",
    "plt2mat(p2, \"l2T.mat\")"
   ]
  },
  {
   "cell_type": "code",
   "execution_count": null,
   "metadata": {},
   "outputs": [],
   "source": []
  }
 ],
 "metadata": {
  "celltoolbar": "Slideshow",
  "kernelspec": {
   "display_name": "Julia 0.6.2",
   "language": "julia",
   "name": "julia-0.6"
  },
  "language_info": {
   "file_extension": ".jl",
   "mimetype": "application/julia",
   "name": "julia",
   "version": "0.6.3"
  }
 },
 "nbformat": 4,
 "nbformat_minor": 2
}
