{
 "cells": [
  {
   "cell_type": "code",
   "execution_count": 1,
   "metadata": {},
   "outputs": [],
   "source": [
    "include(\"../src/ObjectiveEmpiricalBayes.jl\")\n",
    "optcfg = OptConfig(MAXEVAL=1000, OPTIMIZER=:LD_MMA, DEBUG=true, XTOLABS = 1e-6);"
   ]
  },
  {
   "cell_type": "code",
   "execution_count": 2,
   "metadata": {},
   "outputs": [
    {
     "name": "stdout",
     "output_type": "stream",
     "text": [
      "m = FEModel(n=100, σ=0.1) = FEModel(#4, 1.0:0.010101010101010102:2.0, 0.1)\n"
     ]
    },
    {
     "ename": "LoadError",
     "evalue": "\u001b[91mMethodError: no method matching generatedata(::FEModel, ::Int64)\u001b[0m\nClosest candidates are:\n  generatedata(::FEModel, ::Any, \u001b[91m::Any\u001b[39m; smooth) at /Users/alex/home/dev/ebayes/src/models.jl:24\n  generatedata(\u001b[91m::MuSigModel\u001b[39m, ::Any) at /Users/alex/home/dev/ebayes/src/models.jl:49\n  generatedata(\u001b[91m::PoissonModel\u001b[39m, ::Any) at /Users/alex/home/dev/ebayes/src/models.jl:68\u001b[39m",
     "output_type": "error",
     "traceback": [
      "\u001b[91mMethodError: no method matching generatedata(::FEModel, ::Int64)\u001b[0m\nClosest candidates are:\n  generatedata(::FEModel, ::Any, \u001b[91m::Any\u001b[39m; smooth) at /Users/alex/home/dev/ebayes/src/models.jl:24\n  generatedata(\u001b[91m::MuSigModel\u001b[39m, ::Any) at /Users/alex/home/dev/ebayes/src/models.jl:49\n  generatedata(\u001b[91m::PoissonModel\u001b[39m, ::Any) at /Users/alex/home/dev/ebayes/src/models.jl:68\u001b[39m",
      "",
      "Stacktrace:",
      " [1] \u001b[1minclude_string\u001b[22m\u001b[22m\u001b[1m(\u001b[22m\u001b[22m::String, ::String\u001b[1m)\u001b[22m\u001b[22m at \u001b[1m./loading.jl:522\u001b[22m\u001b[22m"
     ]
    }
   ],
   "source": [
    "@show m = FEModel(n=100, σ=0.1)\n",
    "ndata = 1000\n",
    "reg = .1\n",
    "d = generatedata(m, ndata)\n",
    "@time w = ebprior(m, d,reg, optcfg)\n",
    "@show length(xhist)\n",
    "plot(m.xs,w)\n",
    "plot!(m.xs, wprior(m))"
   ]
  },
  {
   "cell_type": "code",
   "execution_count": 3,
   "metadata": {},
   "outputs": [
    {
     "ename": "LoadError",
     "evalue": "\u001b[91mMethodError: no method matching FEModel(; n=100, σ=0.1, prior=Truncated(Distributions.MixtureModel{Distributions.Univariate,Distributions.Continuous,Distributions.Normal{Float64}}(\ncomponents: Distributions.Normal{Float64}[Distributions.Normal{Float64}(μ=1.25, σ=0.1), Distributions.Normal{Float64}(μ=1.75, σ=0.1)]\nprior: Distributions.Categorical{Float64}(K=2, p=[0.5, 0.5])\n)\n, range=(1.0, 2.0))\n)\u001b[0m\nClosest candidates are:\n  FEModel(; f, n, xs, σ) at /Users/alex/home/dev/ebayes/src/models.jl:18\u001b[91m got unsupported keyword argument \"prior\"\u001b[39m\n  FEModel(\u001b[91m::Any\u001b[39m, \u001b[91m::Any\u001b[39m, \u001b[91m::Any\u001b[39m) at /Users/alex/home/dev/ebayes/src/models.jl:13\u001b[91m got unsupported keyword arguments \"n\", \"σ\", \"prior\"\u001b[39m\u001b[39m",
     "output_type": "error",
     "traceback": [
      "\u001b[91mMethodError: no method matching FEModel(; n=100, σ=0.1, prior=Truncated(Distributions.MixtureModel{Distributions.Univariate,Distributions.Continuous,Distributions.Normal{Float64}}(\ncomponents: Distributions.Normal{Float64}[Distributions.Normal{Float64}(μ=1.25, σ=0.1), Distributions.Normal{Float64}(μ=1.75, σ=0.1)]\nprior: Distributions.Categorical{Float64}(K=2, p=[0.5, 0.5])\n)\n, range=(1.0, 2.0))\n)\u001b[0m\nClosest candidates are:\n  FEModel(; f, n, xs, σ) at /Users/alex/home/dev/ebayes/src/models.jl:18\u001b[91m got unsupported keyword argument \"prior\"\u001b[39m\n  FEModel(\u001b[91m::Any\u001b[39m, \u001b[91m::Any\u001b[39m, \u001b[91m::Any\u001b[39m) at /Users/alex/home/dev/ebayes/src/models.jl:13\u001b[91m got unsupported keyword arguments \"n\", \"σ\", \"prior\"\u001b[39m\u001b[39m",
      "",
      "Stacktrace:",
      " [1] \u001b[1m(::Core.#kw#Type)\u001b[22m\u001b[22m\u001b[1m(\u001b[22m\u001b[22m::Array{Any,1}, ::Type{FEModel}\u001b[1m)\u001b[22m\u001b[22m at \u001b[1m./<missing>:0\u001b[22m\u001b[22m",
      " [2] \u001b[1minclude_string\u001b[22m\u001b[22m\u001b[1m(\u001b[22m\u001b[22m::String, ::String\u001b[1m)\u001b[22m\u001b[22m at \u001b[1m./loading.jl:522\u001b[22m\u001b[22m"
     ]
    }
   ],
   "source": [
    "@show m = FEModel(n=100, σ=0.1, prior=Truncated(MixtureModel([Normal(mu, 0.1) for mu in [1.25, 1.75]]), 1,2))\n",
    "ndata = 1000\n",
    "reg = .1\n",
    "d = generatedata(m, ndata)\n",
    "@time w = ebprior(m, d,reg, optcfg)\n",
    "@show length(xhist)\n",
    "plot(m.xs,w)\n",
    "plot!(m.xs, wprior(m))"
   ]
  },
  {
   "cell_type": "code",
   "execution_count": 4,
   "metadata": {},
   "outputs": [
    {
     "name": "stdout",
     "output_type": "stream",
     "text": [
      "m = PoissonModel(prior=Gamma(2, 1), xs=linspace(0.1, 10, 50)) = PoissonModel\n",
      "  nx: Int64 20\n",
      "  xs: StepRangeLen{Float64,Base.TwicePrecision{Float64},Base.TwicePrecision{Float64}}\n",
      "  prior: Distributions.Gamma{Float64}\n",
      "\n"
     ]
    },
    {
     "ename": "LoadError",
     "evalue": "\u001b[91mMethodError: no method matching ebprior(::PoissonModel, ::Array{Int64,1}, ::Int64, ::OptConfig)\u001b[0m\nClosest candidates are:\n  ebprior(::Model, ::Any, \u001b[91m::Regularizer\u001b[39m, ::Any) at /Users/alex/home/dev/ebayes/src/eb.jl:7\n  ebprior(::Model, ::Any, \u001b[91m::Regularizer\u001b[39m) at /Users/alex/home/dev/ebayes/src/eb.jl:7\u001b[39m",
     "output_type": "error",
     "traceback": [
      "\u001b[91mMethodError: no method matching ebprior(::PoissonModel, ::Array{Int64,1}, ::Int64, ::OptConfig)\u001b[0m\nClosest candidates are:\n  ebprior(::Model, ::Any, \u001b[91m::Regularizer\u001b[39m, ::Any) at /Users/alex/home/dev/ebayes/src/eb.jl:7\n  ebprior(::Model, ::Any, \u001b[91m::Regularizer\u001b[39m) at /Users/alex/home/dev/ebayes/src/eb.jl:7\u001b[39m",
      "",
      "Stacktrace:",
      " [1] \u001b[1minclude_string\u001b[22m\u001b[22m\u001b[1m(\u001b[22m\u001b[22m::String, ::String\u001b[1m)\u001b[22m\u001b[22m at \u001b[1m./loading.jl:522\u001b[22m\u001b[22m"
     ]
    }
   ],
   "source": [
    "@show m = PoissonModel(prior=Gamma(2,1), xs = linspace(0.1,10, 50))\n",
    "d = generatedata(m, 10)\n",
    "@time w = ebprior(m, d, 100, optcfg)\n",
    "@show length(xhist)\n",
    "plot(m, w)\n",
    "plot!(m.xs, wprior(m))"
   ]
  },
  {
   "cell_type": "code",
   "execution_count": 5,
   "metadata": {},
   "outputs": [
    {
     "ename": "LoadError",
     "evalue": "\u001b[91mUndefVarError: pyplot not defined\u001b[39m",
     "output_type": "error",
     "traceback": [
      "\u001b[91mUndefVarError: pyplot not defined\u001b[39m",
      "",
      "Stacktrace:",
      " [1] \u001b[1minclude_string\u001b[22m\u001b[22m\u001b[1m(\u001b[22m\u001b[22m::String, ::String\u001b[1m)\u001b[22m\u001b[22m at \u001b[1m./loading.jl:522\u001b[22m\u001b[22m"
     ]
    }
   ],
   "source": [
    "pyplot()\n",
    "# prior = MixtureModel([Normal(-.5, 0.1), Normal(.2, 0.2)]))\n",
    "@show m = MuSigModel(nmeas=5, nx=30, ny=30)\n",
    "d = generatedata(m, 1000)\n",
    "reg = .1\n",
    "@time w = ebprior(m, d, reg, optcfg)\n",
    "@show length(xhist)\n",
    "@show l2err(m, w)\n",
    "plot(m, w)|>display\n",
    "plot(m, wprior(m))"
   ]
  },
  {
   "cell_type": "code",
   "execution_count": 6,
   "metadata": {},
   "outputs": [
    {
     "ename": "LoadError",
     "evalue": "\u001b[91mUndefVarError: objective not defined\u001b[39m",
     "output_type": "error",
     "traceback": [
      "\u001b[91mUndefVarError: objective not defined\u001b[39m",
      "",
      "Stacktrace:",
      " [1] \u001b[1minclude_string\u001b[22m\u001b[22m\u001b[1m(\u001b[22m\u001b[22m::String, ::String\u001b[1m)\u001b[22m\u001b[22m at \u001b[1m./loading.jl:522\u001b[22m\u001b[22m"
     ]
    }
   ],
   "source": [
    "obj, _ = objective(m, 1, d)\n",
    "plotlyjs()\n",
    "plot()\n",
    "for o in [:LD_MMA, \n",
    "    #:LD_SLSQP, \n",
    "    :LD_LBFGS, \n",
    "    #:LD_VAR2,\n",
    "    :LD_VAR1,\n",
    "    #:LD_TNEWTON_PRECOND,\n",
    "    #:LD_TNEWTON_PRECOND_RESTART,\n",
    "    #:LD_TNEWTON_RESTART,\n",
    "    #:LD_TNEWTON,\n",
    "    ]\n",
    "  @time w = ebprior(m, d, 1, OptConfig(OPTIMIZER=o, XTOLABS=0, MAXEVAL=200, DEBUG=true))\n",
    "  cutoff(w) = w < .265 ? w + 10: NaN\n",
    "  plot!(cutoff.(obj.(softmax.(xhist)))[30:end], label=o)\n",
    "end\n",
    "plot!()\n",
    "plot!(yaxis=:log)"
   ]
  },
  {
   "cell_type": "code",
   "execution_count": 7,
   "metadata": {},
   "outputs": [
    {
     "ename": "LoadError",
     "evalue": "\u001b[91mUndefVarError: w not defined\u001b[39m",
     "output_type": "error",
     "traceback": [
      "\u001b[91mUndefVarError: w not defined\u001b[39m",
      "",
      "Stacktrace:",
      " [1] \u001b[1minclude_string\u001b[22m\u001b[22m\u001b[1m(\u001b[22m\u001b[22m::String, ::String\u001b[1m)\u001b[22m\u001b[22m at \u001b[1m./loading.jl:522\u001b[22m\u001b[22m"
     ]
    }
   ],
   "source": [
    "plot(m,w)"
   ]
  },
  {
   "cell_type": "code",
   "execution_count": null,
   "metadata": {},
   "outputs": [],
   "source": []
  }
 ],
 "metadata": {
  "kernelspec": {
   "display_name": "Julia 0.6.2",
   "language": "julia",
   "name": "julia-0.6"
  },
  "language_info": {
   "file_extension": ".jl",
   "mimetype": "application/julia",
   "name": "julia",
   "version": "0.6.3"
  }
 },
 "nbformat": 4,
 "nbformat_minor": 2
}
