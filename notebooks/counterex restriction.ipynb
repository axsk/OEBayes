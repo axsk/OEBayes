{
 "cells": [
  {
   "cell_type": "markdown",
   "metadata": {
    "slideshow": {
     "slide_type": "slide"
    }
   },
   "source": [
    "# Prior estimation"
   ]
  },
  {
   "cell_type": "code",
   "execution_count": 6,
   "metadata": {},
   "outputs": [],
   "source": [
    "using Revise"
   ]
  },
  {
   "cell_type": "code",
   "execution_count": 7,
   "metadata": {
    "slideshow": {
     "slide_type": "slide"
    }
   },
   "outputs": [
    {
     "data": {
      "text/plain": [
       "linspace (generic function with 1 method)"
      ]
     },
     "execution_count": 7,
     "metadata": {},
     "output_type": "execute_result"
    }
   ],
   "source": [
    "import ObjectiveEmpiricalBayes: OptConfig, FEModel, generatedata, cvreference, ReferenceRegularizer, cvscore, ebprior\n",
    "import Distributions: Uniform\n",
    "using Random: seed!\n",
    "\n",
    "using PyPlot\n",
    "\n",
    "OPTCONFIG=OptConfig(MAXEVAL=10000, XTOLREL=1e-8, DEBUG=false);\n",
    "linspace(x...) = LinRange(x...) |> collect"
   ]
  },
  {
   "cell_type": "markdown",
   "metadata": {},
   "source": [
    "## The Model"
   ]
  },
  {
   "cell_type": "code",
   "execution_count": 8,
   "metadata": {},
   "outputs": [
    {
     "data": {
      "text/plain": [
       "Uniform{Float64}(a=0.0, b=2.0)"
      ]
     },
     "execution_count": 8,
     "metadata": {},
     "output_type": "execute_result"
    }
   ],
   "source": [
    "n = 200\n",
    "ndata = 100\n",
    "σ = .5\n",
    "prior = Uniform(0,2)"
   ]
  },
  {
   "cell_type": "code",
   "execution_count": 9,
   "metadata": {
    "slideshow": {
     "slide_type": "slide"
    }
   },
   "outputs": [],
   "source": [
    "seed!(5)\n",
    "m = FEModel(f=x->x, xs=linspace(0,2,n), σ=σ) \n",
    "mt = FEModel(f=x->x, xs=linspace(0,1,n), σ=σ) # model with restricted domain\n",
    "d = generatedata(m, prior, ndata);"
   ]
  },
  {
   "cell_type": "code",
   "execution_count": 10,
   "metadata": {},
   "outputs": [
    {
     "data": {
      "image/png": "[encoded data removed]",
      "text/plain": [
       "Figure(PyObject <Figure size 400x300 with 1 Axes>)"
      ]
     },
     "metadata": {},
     "output_type": "display_data"
    }
   ],
   "source": [
    "regR = 1\n",
    "wr  = ebprior(m,  d, ReferenceRegularizer(m,  regR), OPTCONFIG)\n",
    "wrt = ebprior(mt, d, ReferenceRegularizer(mt, regR), OPTCONFIG)\n",
    "\n",
    "PyPlot.rc(\"text\",usetex=true)\n",
    "\n",
    "figure(figsize=(4,3))\n",
    "plot([0,2],[0.5,.5], label=\"\\$\\\\pi_{\\\\rm true}\\$\", alpha=.3, linewidth=2.2)\n",
    "plot(m.xs, wr/2*n, label=\"\\$\\\\pi_{\\\\rm erp}\\$\")\n",
    "plot(mt.xs, wrt*n, label=\"\\$\\\\pi^0_{\\\\rm erp}\\$\")\n",
    "plot(d, zero(d), marker=\"|\", linestyle=\" \", label=\"data\")\n",
    "\n",
    "ylim(0,2.5)\n",
    "\n",
    "yticks([0,1,2])\n",
    "xticks([0,1,2])\n",
    "legend()\n",
    "#vlines(0,1,2)\n",
    "savefig(\"plots/counterex.pdf\", bbox_inches=\"tight\")\n",
    "p=gcf();"
   ]
  }
 ],
 "metadata": {
  "celltoolbar": "Slideshow",
  "kernelspec": {
   "display_name": "Julia 1.3.0-rc4",
   "language": "julia",
   "name": "julia-1.3"
  },
  "language_info": {
   "file_extension": ".jl",
   "mimetype": "application/julia",
   "name": "julia",
   "version": "1.3.0"
  }
 },
 "nbformat": 4,
 "nbformat_minor": 2
}
