{
 "cells": [
  {
   "cell_type": "markdown",
   "metadata": {
    "slideshow": {
     "slide_type": "slide"
    }
   },
   "source": [
    "# Prior estimation"
   ]
  },
  {
   "cell_type": "code",
   "execution_count": 1,
   "metadata": {
    "slideshow": {
     "slide_type": "slide"
    }
   },
   "outputs": [],
   "source": [
    "include(\"src/main.jl\")\n",
    "OPTCONFIG=OptConfig(XTOLABS=1e-8, DEBUG=true);"
   ]
  },
  {
   "cell_type": "markdown",
   "metadata": {},
   "source": [
    "## The Model"
   ]
  },
  {
   "cell_type": "code",
   "execution_count": 2,
   "metadata": {},
   "outputs": [
    {
     "data": {
      "text/plain": [
       "Transformation(#80, #81)"
      ]
     },
     "execution_count": 2,
     "metadata": {},
     "output_type": "execute_result"
    }
   ],
   "source": [
    "# exponential\n",
    "xlims = (0,4)\n",
    "n = 200 # was 500\n",
    "ndata = 100\n",
    "σ = 0.3\n",
    "prior = Truncated(MixtureModel([Normal(mu, .5) for mu in [1, 3]]), xlims...)\n",
    "\n",
    "\n",
    "t    = Transformation(x->exp(x), x->log(x))"
   ]
  },
  {
   "cell_type": "code",
   "execution_count": null,
   "metadata": {
    "slideshow": {
     "slide_type": "slide"
    }
   },
   "outputs": [
    {
     "name": "stdout",
     "output_type": "stream",
     "text": [
      " 56"
     ]
    }
   ],
   "source": [
    "for i = 1:100\n",
    "  dir = \"batch/$i\"\n",
    "  try\n",
    "    mkdir(dir)\n",
    "  end\n",
    "\n",
    "  srand(i)\n",
    "  m = FEModel(f=x->x, xs=linspace(xlims...,n), σ=σ)\n",
    "  d = generatedata(m, prior, ndata);\n",
    "  mt   = transformmodel(m, t)\n",
    "\n",
    "  ncv = 20\n",
    "  kfold = length(d);\n",
    "\n",
    "  lims = ([0,4],[0,.6],[1,55], [0,.2])\n",
    "\n",
    "  figsize=(4,3)\n",
    "\n",
    "  ## er estimator\n",
    "  regs = [ReferenceRegularizer(m, γ) for γ in linspace(0.1,1,ncv)]\n",
    "  @time ss = [cvscore(m, d, d->ebprior(m, d, r), kfold) for r in regs]\n",
    "  figure()\n",
    "  PyPlot.plot([r.γ for r in regs], ss)\n",
    "  PyPlot.savefig(\"$dir/ebcv.pdf\")\n",
    "  regR = regs[indmax(ss)].γ\n",
    "\n",
    "  wR  = ebprior(m,  d, ReferenceRegularizer(m,  regR))\n",
    "  wRt = ebprior(mt, d, ReferenceRegularizer(mt, regR))\n",
    "\n",
    "  compareplot(m, t, pdf.(prior, m.xs), wR, wRt, \"eb\", lims...; figsize=figsize, savename=\"$dir/eb\")\n",
    "\n",
    "  ## thik estimator\n",
    "  regs = [ThikonovRegularizer(γ) for γ in linspace(1,80,ncv)]\n",
    "  @time ss = [cvscore(m, d, d->ebprior(m, d, r), kfold) for r in regs]\n",
    "  figure()\n",
    "  PyPlot.plot([r.γ for r in regs], ss)  \n",
    "  PyPlot.savefig(\"$dir/l2cv.pdf\")\n",
    "  regT = regs[indmax(ss)].γ\n",
    "\n",
    "  wT = ebprior(m,  d, ThikonovRegularizer(regT))\n",
    "  wTt = ebprior(mt, d, ThikonovRegularizer(regT))\n",
    "\n",
    "  compareplot(m, t, pdf.(prior, m.xs), wT, wTt, \"L_2\", lims...; figsize=figsize, savename=\"$dir/l2\")\n",
    "\n",
    "end"
   ]
  }
 ],
 "metadata": {
  "celltoolbar": "Slideshow",
  "kernelspec": {
   "display_name": "Julia 0.6.2",
   "language": "julia",
   "name": "julia-0.6"
  },
  "language_info": {
   "file_extension": ".jl",
   "mimetype": "application/julia",
   "name": "julia",
   "version": "0.6.2"
  }
 },
 "nbformat": 4,
 "nbformat_minor": 2
}
