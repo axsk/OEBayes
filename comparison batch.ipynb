{
 "cells": [
  {
   "cell_type": "markdown",
   "metadata": {
    "slideshow": {
     "slide_type": "slide"
    }
   },
   "source": [
    "# Prior estimation"
   ]
  },
  {
   "cell_type": "code",
   "execution_count": 1,
   "metadata": {
    "slideshow": {
     "slide_type": "slide"
    }
   },
   "outputs": [],
   "source": [
    "include(\"src/main.jl\")\n",
    "OPTCONFIG=OptConfig(XTOLABS=1e-8, DEBUG=true);"
   ]
  },
  {
   "cell_type": "markdown",
   "metadata": {},
   "source": [
    "## The Model"
   ]
  },
  {
   "cell_type": "code",
   "execution_count": 2,
   "metadata": {},
   "outputs": [
    {
     "data": {
      "text/plain": [
       "Transformation(#80, #81)"
      ]
     },
     "execution_count": 2,
     "metadata": {},
     "output_type": "execute_result"
    }
   ],
   "source": [
    "# exponential\n",
    "xlims = (0,4)\n",
    "n = 200 # was 500\n",
    "ndata = 100\n",
    "σ = 0.3\n",
    "prior = Truncated(MixtureModel([Normal(mu, .5) for mu in [1, 3]]), xlims...)\n",
    "\n",
    "\n",
    "t    = Transformation(x->exp(x), x->log(x))"
   ]
  },
  {
   "cell_type": "code",
   "execution_count": null,
   "metadata": {
    "slideshow": {
     "slide_type": "slide"
    }
   },
   "outputs": [
    {
     "name": "stdout",
     "output_type": "stream",
     "text": [
      "108.301456 seconds (165.90 M allocations: 109.587 GiB, 10.29% gc time)\n",
      "112.805316 seconds (170.27 M allocations: 220.128 GiB, 17.02% gc time)\n",
      " 51.578741 seconds (166.35 M allocations: 118.726 GiB, 18.49% gc time)\n",
      "135.898199 seconds (170.29 M allocations: 221.170 GiB, 14.56% gc time)\n",
      " 94.548037 seconds (165.41 M allocations: 100.725 GiB, 10.19% gc time)\n",
      " 79.063284 seconds (169.87 M allocations: 211.910 GiB, 21.03% gc time)\n",
      " 43.572222 seconds (165.54 M allocations: 103.117 GiB, 18.10% gc time)\n",
      " 78.456150 seconds (169.69 M allocations: 208.041 GiB, 21.00% gc time)\n",
      " 46.429552 seconds (166.28 M allocations: 117.398 GiB, 19.59% gc time)\n",
      " 87.225828 seconds (171.43 M allocations: 246.121 GiB, 22.43% gc time)\n",
      " 44.019558 seconds (165.94 M allocations: 110.801 GiB, 19.87% gc time)\n",
      " 74.479569 seconds (169.78 M allocations: 209.930 GiB, 22.11% gc time)\n",
      " 48.034329 seconds (166.57 M allocations: 122.810 GiB, 19.89% gc time)\n",
      " 82.758575 seconds (171.34 M allocations: 244.062 GiB, 23.34% gc time)\n",
      " 43.655820 seconds (165.69 M allocations: 105.988 GiB, 18.77% gc time)\n",
      " 80.167867 seconds (170.52 M allocations: 226.112 GiB, 22.04% gc time)\n",
      " 47.714557 seconds (165.94 M allocations: 110.863 GiB, 18.90% gc time)\n",
      "167.554385 seconds (171.49 M allocations: 247.341 GiB, 13.29% gc time)\n",
      "102.722365 seconds (166.39 M allocations: 119.413 GiB, 10.97% gc time)\n",
      "178.650793 seconds (170.85 M allocations: 233.450 GiB, 12.44% gc time)\n",
      "102.597395 seconds (166.15 M allocations: 114.893 GiB, 10.45% gc time)\n",
      "187.293707 seconds (171.68 M allocations: 251.531 GiB, 12.67% gc time)\n",
      " 97.005185 seconds (165.91 M allocations: 110.277 GiB, 10.65% gc time)\n",
      "155.483945 seconds (170.40 M allocations: 223.534 GiB, 13.35% gc time)\n",
      " 47.280659 seconds (166.43 M allocations: 120.140 GiB, 19.90% gc time)\n",
      " 90.484690 seconds (170.93 M allocations: 235.231 GiB, 20.74% gc time)\n",
      " 52.300372 seconds (165.72 M allocations: 106.577 GiB, 16.07% gc time)\n",
      " 90.359997 seconds (170.86 M allocations: 233.634 GiB, 20.63% gc time)\n",
      " 41.686921 seconds (165.52 M allocations: 102.696 GiB, 19.15% gc time)\n",
      " 89.047192 seconds (170.51 M allocations: 225.914 GiB, 20.11% gc time)\n",
      " 48.595743 seconds (166.04 M allocations: 112.818 GiB, 18.60% gc time)\n",
      " 84.390802 seconds (170.52 M allocations: 226.237 GiB, 21.08% gc time)\n",
      " 45.942586 seconds (166.42 M allocations: 120.106 GiB, 19.58% gc time)\n",
      " 80.970338 seconds (171.63 M allocations: 250.440 GiB, 23.41% gc time)\n",
      " 46.225760 seconds (166.61 M allocations: 123.672 GiB, 19.82% gc time)\n",
      " 77.513845 seconds (171.07 M allocations: 238.316 GiB, 23.23% gc time)\n",
      " 45.047869 seconds (166.34 M allocations: 118.491 GiB, 19.77% gc time)\n",
      " 76.807860 seconds (170.93 M allocations: 235.230 GiB, 23.22% gc time)\n",
      " 45.952316 seconds (166.47 M allocations: 120.907 GiB, 20.07% gc time)\n",
      " 76.465230 seconds (170.90 M allocations: 234.577 GiB, 23.22% gc time)\n",
      " 44.587586 seconds (166.26 M allocations: 116.951 GiB, 19.92% gc time)\n",
      " 77.908365 seconds (171.21 M allocations: 241.302 GiB, 23.21% gc time)\n",
      " 44.222090 seconds (166.20 M allocations: 115.854 GiB, 19.90% gc time)\n",
      " 81.606198 seconds (171.84 M allocations: 255.030 GiB, 23.38% gc time)\n",
      " 45.207354 seconds (166.39 M allocations: 119.372 GiB, 19.88% gc time)\n",
      " 80.517367 seconds (171.63 M allocations: 250.531 GiB, 23.22% gc time)\n",
      " 39.898392 seconds (165.44 M allocations: 101.266 GiB, 19.11% gc time)\n",
      " 68.752223 seconds (169.77 M allocations: 209.736 GiB, 22.41% gc time)\n",
      " 41.849066 seconds (165.75 M allocations: 107.218 GiB, 19.69% gc time)\n",
      " 71.642667 seconds (170.22 M allocations: 219.671 GiB, 22.90% gc time)\n",
      " 44.668354 seconds (166.24 M allocations: 116.646 GiB, 19.77% gc time)\n",
      " 82.457656 seconds (171.80 M allocations: 254.319 GiB, 23.55% gc time)\n",
      " 42.827282 seconds (165.99 M allocations: 111.804 GiB, 19.50% gc time)\n",
      " 73.750795 seconds (170.56 M allocations: 227.051 GiB, 22.87% gc time)\n",
      " 40.692094 seconds (165.61 M allocations: 104.477 GiB, 18.86% gc time)\n",
      " 75.633601 seconds (170.77 M allocations: 231.596 GiB, 22.99% gc time)\n",
      " 39.738379 seconds (165.46 M allocations: 101.623 GiB, 18.78% gc time)\n",
      " 69.294092 seconds (169.80 M allocations: 210.556 GiB, 22.74% gc time)\n",
      " 41.539096 seconds (165.72 M allocations: 106.576 GiB, 19.18% gc time)\n",
      " 71.289876 seconds (170.13 M allocations: 217.710 GiB, 22.77% gc time)\n",
      " 42.854270 seconds (165.98 M allocations: 111.620 GiB, 19.44% gc time)\n",
      " 77.121476 seconds (171.12 M allocations: 239.348 GiB, 22.85% gc time)\n",
      " 43.059538 seconds (165.98 M allocations: 111.619 GiB, 19.70% gc time)\n",
      " 77.261439 seconds (171.08 M allocations: 238.462 GiB, 23.20% gc time)\n",
      " 42.449358 seconds (165.91 M allocations: 110.154 GiB, 19.38% gc time)\n",
      " 78.655923 seconds (171.30 M allocations: 243.265 GiB, 23.11% gc time)\n",
      " 42.459170 seconds (165.91 M allocations: 110.254 GiB, 19.39% gc time)\n",
      " 78.007448 seconds (171.19 M allocations: 240.933 GiB, 23.11% gc time)\n",
      " 44.307254 seconds (166.23 M allocations: 116.356 GiB, 19.55% gc time)\n",
      " 78.589010 seconds (171.25 M allocations: 242.240 GiB, 23.36% gc time)\n",
      " 38.816011 seconds (165.26 M allocations: 97.755 GiB, 18.70% gc time)\n",
      " 66.551406 seconds (169.35 M allocations: 200.604 GiB, 22.55% gc time)\n",
      " 43.198746 seconds (166.04 M allocations: 112.724 GiB, 19.52% gc time)\n",
      " 72.707376 seconds (170.28 M allocations: 220.965 GiB, 23.10% gc time)\n",
      " 42.621485 seconds (165.89 M allocations: 109.946 GiB, 19.59% gc time)\n",
      " 71.059349 seconds (170.03 M allocations: 215.527 GiB, 22.55% gc time)\n",
      " 43.551575 seconds (166.11 M allocations: 114.126 GiB, 19.39% gc time)\n",
      " 78.678079 seconds (171.34 M allocations: 244.054 GiB, 23.34% gc time)\n",
      " 41.977360 seconds (165.88 M allocations: 109.737 GiB, 19.17% gc time)\n",
      " 73.551434 seconds (170.52 M allocations: 226.186 GiB, 22.93% gc time)\n",
      " 41.043620 seconds (165.67 M allocations: 105.632 GiB, 19.24% gc time)\n",
      " 70.310662 seconds (170.03 M allocations: 215.443 GiB, 22.59% gc time)\n",
      " 42.217067 seconds (165.84 M allocations: 108.911 GiB, 19.53% gc time)\n",
      " 71.655605 seconds (170.15 M allocations: 218.103 GiB, 22.94% gc time)\n",
      " 43.025694 seconds (166.03 M allocations: 112.597 GiB, 19.30% gc time)\n",
      " 80.186193 seconds (171.28 M allocations: 242.813 GiB, 22.82% gc time)\n",
      " 42.541479 seconds (165.86 M allocations: 109.350 GiB, 19.35% gc time)\n",
      " 71.217501 seconds (170.10 M allocations: 217.031 GiB, 22.76% gc time)\n",
      " 43.032602 seconds (166.01 M allocations: 112.130 GiB, 19.43% gc time)\n",
      " 73.079173 seconds (170.34 M allocations: 222.224 GiB, 22.63% gc time)\n",
      " 43.369118 seconds (166.03 M allocations: 112.506 GiB, 19.71% gc time)\n",
      " 76.539923 seconds (170.91 M allocations: 234.709 GiB, 23.21% gc time)\n",
      " 43.221066 seconds (166.04 M allocations: 112.703 GiB, 19.54% gc time)\n",
      " 79.732955 seconds (171.44 M allocations: 246.308 GiB, 23.36% gc time)\n",
      " 46.335490 seconds (166.57 M allocations: 122.917 GiB, 19.92% gc time)\n",
      " 76.725179 seconds (170.89 M allocations: 234.300 GiB, 23.13% gc time)\n",
      " 42.724878 seconds (165.95 M allocations: 111.093 GiB, 19.27% gc time)\n",
      " 71.012206 seconds (170.05 M allocations: 215.960 GiB, 22.77% gc time)\n",
      " 43.103492 seconds (166.01 M allocations: 112.220 GiB, 19.53% gc time)\n",
      " 75.951675 seconds (170.84 M allocations: 233.330 GiB, 23.08% gc time)\n",
      " 42.926734 seconds (165.99 M allocations: 111.818 GiB, 19.40% gc time)\n",
      " 76.797201 seconds (170.93 M allocations: 235.191 GiB, 22.99% gc time)\n",
      " 45.955677 seconds (166.50 M allocations: 121.527 GiB, 19.83% gc time)\n",
      " 81.123502 seconds (171.61 M allocations: 249.959 GiB, 23.62% gc time)\n",
      " 44.713769 seconds (166.27 M allocations: 117.214 GiB, 19.83% gc time)\n",
      " 84.636039 seconds (172.20 M allocations: 263.026 GiB, 23.40% gc time)\n",
      " 39.501563 seconds (165.38 M allocations: 100.020 GiB, 18.72% gc time)\n",
      " 66.086675 seconds (169.26 M allocations: 198.595 GiB, 22.33% gc time)\n",
      " 42.635143 seconds (165.93 M allocations: 110.639 GiB, 19.32% gc time)\n",
      " 75.345472 seconds (170.75 M allocations: 231.337 GiB, 23.03% gc time)\n",
      " 43.631588 seconds (166.11 M allocations: 114.068 GiB, 19.79% gc time)\n",
      "118.711967 seconds (171.73 M allocations: 252.597 GiB, 17.64% gc time)\n",
      " 97.575440 seconds (165.16 M allocations: 95.908 GiB, 9.19% gc time)\n",
      "164.622660 seconds (169.26 M allocations: 198.592 GiB, 11.48% gc time)\n",
      "110.744747 seconds (166.31 M allocations: 117.953 GiB, 10.41% gc time)\n",
      "207.893825 seconds (171.18 M allocations: 240.627 GiB, 11.51% gc time)\n"
     ]
    },
    {
     "name": "stdout",
     "output_type": "stream",
     "text": [
      " 90.874099 seconds (165.58 M allocations: 103.947 GiB, 10.30% gc time)\n",
      "138.569099 seconds (169.88 M allocations: 212.160 GiB, 14.19% gc time)\n",
      " 49.666970 seconds (165.97 M allocations: 111.423 GiB, 17.69% gc time)\n"
     ]
    }
   ],
   "source": [
    "for i = 1:100\n",
    "  dir = \"batch/$i\"\n",
    "  try\n",
    "    mkdir(dir)\n",
    "  end\n",
    "\n",
    "  srand(i)\n",
    "  m = FEModel(f=x->x, xs=linspace(xlims...,n), σ=σ)\n",
    "  d = generatedata(m, prior, ndata);\n",
    "  mt   = transformmodel(m, t)\n",
    "\n",
    "  ncv = 20\n",
    "  kfold = length(d);\n",
    "\n",
    "  lims = ([0,4],[0,.6],[1,55], [0,.2])\n",
    "\n",
    "  figsize=(4,3)\n",
    "\n",
    "  ## er estimator\n",
    "  regs = [ReferenceRegularizer(m, γ) for γ in linspace(0.1,2,ncv)]\n",
    "  @time ss = [cvscore(m, d, d->ebprior(m, d, r), kfold) for r in regs]\n",
    "  figure()\n",
    "  PyPlot.plot([r.γ for r in regs], ss)\n",
    "  PyPlot.savefig(\"$dir/ebcv.pdf\")\n",
    "  regR = regs[indmax(ss)].γ\n",
    "\n",
    "  wR  = ebprior(m,  d, ReferenceRegularizer(m,  regR))\n",
    "  wRt = ebprior(mt, d, ReferenceRegularizer(mt, regR))\n",
    "\n",
    "  compareplot(m, t, pdf.(prior, m.xs), wR, wRt, \"eb\", lims...; figsize=figsize, savename=\"$dir/eb\")\n",
    "\n",
    "  ## thik estimator\n",
    "  regs = [ThikonovRegularizer(γ) for γ in linspace(1,160,ncv)]\n",
    "  @time ss = [cvscore(m, d, d->ebprior(m, d, r), kfold) for r in regs]\n",
    "  figure()\n",
    "  PyPlot.plot([r.γ for r in regs], ss)  \n",
    "  PyPlot.savefig(\"$dir/l2cv.pdf\")\n",
    "  regT = regs[indmax(ss)].γ\n",
    "\n",
    "  wT = ebprior(m,  d, ThikonovRegularizer(regT))\n",
    "  wTt = ebprior(mt, d, ThikonovRegularizer(regT))\n",
    "\n",
    "  compareplot(m, t, pdf.(prior, m.xs), wT, wTt, \"L_2\", lims...; figsize=figsize, savename=\"$dir/l2\")\n",
    "\n",
    "end"
   ]
  },
  {
   "cell_type": "code",
   "execution_count": null,
   "metadata": {},
   "outputs": [],
   "source": []
  }
 ],
 "metadata": {
  "celltoolbar": "Slideshow",
  "kernelspec": {
   "display_name": "Julia 0.6.2",
   "language": "julia",
   "name": "julia-0.6"
  },
  "language_info": {
   "file_extension": ".jl",
   "mimetype": "application/julia",
   "name": "julia",
   "version": "0.6.2"
  }
 },
 "nbformat": 4,
 "nbformat_minor": 2
}
