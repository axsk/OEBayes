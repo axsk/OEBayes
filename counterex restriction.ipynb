{
 "cells": [
  {
   "cell_type": "markdown",
   "metadata": {
    "slideshow": {
     "slide_type": "slide"
    }
   },
   "source": [
    "# Prior estimation"
   ]
  },
  {
   "cell_type": "code",
   "execution_count": 2,
   "metadata": {
    "slideshow": {
     "slide_type": "slide"
    }
   },
   "outputs": [],
   "source": [
    "include(\"src/main.jl\")\n",
    "OPTCONFIG=OptConfig(XTOLABS=1e-8, DEBUG=true);"
   ]
  },
  {
   "cell_type": "code",
   "execution_count": 3,
   "metadata": {},
   "outputs": [
    {
     "data": {
      "text/plain": [
       "true"
      ]
     },
     "execution_count": 3,
     "metadata": {},
     "output_type": "execute_result"
    }
   ],
   "source": [
    "# enable pyplot-latex\n",
    "PyCall.PyDict(PyPlot.matplotlib[\"rcParams\"])[\"text.usetex\"] = true"
   ]
  },
  {
   "cell_type": "markdown",
   "metadata": {},
   "source": [
    "## The Model"
   ]
  },
  {
   "cell_type": "code",
   "execution_count": 4,
   "metadata": {},
   "outputs": [
    {
     "data": {
      "text/plain": [
       "Distributions.Uniform{Float64}(a=0.0, b=2.0)"
      ]
     },
     "execution_count": 4,
     "metadata": {},
     "output_type": "execute_result"
    }
   ],
   "source": [
    "n = 200\n",
    "ndata = 100\n",
    "σ = .5\n",
    "prior = Uniform(0,2)"
   ]
  },
  {
   "cell_type": "code",
   "execution_count": 5,
   "metadata": {
    "slideshow": {
     "slide_type": "slide"
    }
   },
   "outputs": [],
   "source": [
    "srand(5)\n",
    "m = FEModel(f=x->x, xs=linspace(0,2,n), σ=σ)\n",
    "mt = FEModel(f=x->x, xs=linspace(0,1,n), σ=σ)\n",
    "d = generatedata(m, prior, ndata);"
   ]
  },
  {
   "cell_type": "code",
   "execution_count": 6,
   "metadata": {
    "slideshow": {
     "slide_type": "-"
    }
   },
   "outputs": [
    {
     "data": {
      "text/plain": [
       "10"
      ]
     },
     "execution_count": 6,
     "metadata": {},
     "output_type": "execute_result"
    }
   ],
   "source": [
    "ncv = 20\n",
    "#kfold = length(d);\n",
    "kfold = 10"
   ]
  },
  {
   "cell_type": "code",
   "execution_count": null,
   "metadata": {
    "scrolled": false,
    "slideshow": {
     "slide_type": "-"
    }
   },
   "outputs": [],
   "source": [
    "## er estimator\n",
    "regs = [ReferenceRegularizer(m, γ) for γ in linspace(0.01,10,ncv)]\n",
    "@time ss = [cvscore(m, d, d->ebprior(m, d, r), kfold) for r in regs]\n",
    "plot([r.γ for r in regs], ss)\n",
    "regR = regs[indmax(ss)].γ"
   ]
  },
  {
   "cell_type": "code",
   "execution_count": null,
   "metadata": {
    "slideshow": {
     "slide_type": "-"
    }
   },
   "outputs": [],
   "source": [
    "## er estimator\n",
    "regs = [ReferenceRegularizer(mt, γ) for γ in linspace(0.0001,0.001,ncv)]\n",
    "@time ss = [cvscore(mt, d, d->ebprior(mt, d, r), kfold) for r in regs]\n",
    "plot([r.γ for r in regs], ss)\n",
    "regRt = regs[indmax(ss)].γ"
   ]
  },
  {
   "cell_type": "code",
   "execution_count": null,
   "metadata": {},
   "outputs": [],
   "source": [
    "@show regR\n",
    "wr  = ebprior(m,  d, ReferenceRegularizer(m,  regR))\n",
    "wrt = ebprior(mt, d, ReferenceRegularizer(mt, regR))\n",
    "\n",
    "figure(figsize=(4,3))\n",
    "plot([0,2],[0.5,.5], label=\"\\$\\\\pi_{\\\\rm true}\\$\", alpha=.3, linewidth=2.2)\n",
    "plot(m.xs, wr/2*n, label=\"\\$\\\\pi_{\\\\rm er}\\$\")\n",
    "plot(mt.xs, wrt*n, label=\"\\$\\\\pi^0_{\\\\rm er}\\$\")\n",
    "plot(d, zeros(d), marker=\"|\", linestyle=\" \", label=\"data\")\n",
    "\n",
    "ylim(0,2)\n",
    "\n",
    "yticks([0,1,2])\n",
    "xticks([0,1,2])\n",
    "legend()\n",
    "vlines([0,1,2])\n",
    "savefig(\"counterex.pdf\", bbox_inches=\"tight\")"
   ]
  },
  {
   "cell_type": "code",
   "execution_count": 181,
   "metadata": {},
   "outputs": [],
   "source": []
  },
  {
   "cell_type": "code",
   "execution_count": null,
   "metadata": {},
   "outputs": [],
   "source": []
  }
 ],
 "metadata": {
  "celltoolbar": "Slideshow",
  "kernelspec": {
   "display_name": "Julia 0.6.2",
   "language": "julia",
   "name": "julia-0.6"
  },
  "language_info": {
   "file_extension": ".jl",
   "mimetype": "application/julia",
   "name": "julia",
   "version": "0.6.2"
  }
 },
 "nbformat": 4,
 "nbformat_minor": 2
}
