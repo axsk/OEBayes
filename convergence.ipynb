{
 "cells": [
  {
   "cell_type": "code",
   "execution_count": null,
   "metadata": {},
   "outputs": [],
   "source": [
    "using ForwardDiff\n",
    "using GynC\n",
    "using Plots; pyplot()\n",
    "using StatPlots"
   ]
  },
  {
   "cell_type": "code",
   "execution_count": null,
   "metadata": {},
   "outputs": [],
   "source": [
    "using Parameters\n",
    "\n",
    "@with_kw struct Model\n",
    "  f = x->x.^2\n",
    "  n = 100\n",
    "  xs = linspace(1,2,n)\n",
    "  σ = 1\n",
    "  γ = 1\n",
    "end\n",
    "\n",
    "function generatedata(m, n; prior=dataprior)\n",
    "  # smooth, true samples\n",
    "  #dataxs = rand(prior, n)\n",
    "  # discrete samples\n",
    "  dataxs = m.xs[rand(Categorical(wtrue), n)]\n",
    "  datays = m.f.(dataxs) + rand(Normal(0, m.σ), n)\n",
    "  dataxs, datays\n",
    "end\n",
    "\n",
    "jeffreysprior(m) = normalize([ForwardDiff.derivative(m.f, x) for x in m.xs], 1)\n",
    "  \n",
    "likelihoodmat(m, data) = [pdf(Normal(y, m.σ), d) for d in data, y in m.f.(m.xs)]\n",
    "\n",
    "\n",
    "logL(w, L)  = sum(log.(L * w)) \n",
    "dlogL(w, L) = sum(L ./ (L*w), 1) |> vec\n",
    "\n",
    "dklj(w, j)  = sum(w[i] * log(w[i]/j[i]) for i in 1:length(w))\n",
    "ddklj(w, j) = [log(w[i]/j[i]) + 1 for i in 1:length(w)]\n",
    "\n",
    "function ebprior(m, datas, γ, c=GynC.OptConfig(n=MAXEVAL))\n",
    "  \n",
    "  data = datas[2]\n",
    "  \n",
    "  j = jeffreysprior(m)\n",
    "  L = likelihoodmat(m, data)  \n",
    "  \n",
    "   obj(w) = (γ > 0 ? γ *  dklj(w,j) : 0) -  logL(w,L)\n",
    "  dobj(w) = (γ > 0 ? γ * ddklj(w,j) : 0) - dlogL(w,L)\n",
    "  \n",
    "  opt = GynC.simplex_minimize(obj, dobj, ones(m.n), config=c)\n",
    "  global opthist \n",
    "  opthist = opt[2]\n",
    "  opt[1] \n",
    "end\n",
    "\n",
    "m = Model()\n",
    "dataprior = TruncatedNormal(1.5, 0.1, 1, 2)\n",
    "wtrue = normalize(pdf.(dataprior, m.xs), 1);\n"
   ]
  },
  {
   "cell_type": "code",
   "execution_count": null,
   "metadata": {},
   "outputs": [],
   "source": [
    "priorpredictivedistr(m, w) = MixtureModel([Normal(m.f(x), m.σ) for x in m.xs], w)\n",
    "plotpriorpredictivedistr!(m, w) = plot!(0:0.01:5, x->pdf(priorpredictivedistr(m,w),x))"
   ]
  },
  {
   "cell_type": "markdown",
   "metadata": {},
   "source": [
    "# Single run\n",
    "\n",
    "- peaking for fine discretization\n",
    "- ilja conj: vanished for high M"
   ]
  },
  {
   "cell_type": "code",
   "execution_count": null,
   "metadata": {},
   "outputs": [],
   "source": [
    "srand(1)\n",
    "datas = generatedata(m, 100);\n",
    "c = GynC.OptConfig(XTOLABS=1e-5, OPTIMIZER=:LD_MMA)\n",
    "@time w = ebprior(m, datas, 0, c)\n",
    "\n",
    "@show length(opthist)\n",
    "\n",
    "@show logL(w, L)\n",
    "@show logL(w, L) - logL(wtrue, L)\n",
    "println()\n",
    "\n",
    "@show norm(w-wtrue)\n",
    "@show maximum(w)\n",
    "\n",
    "plot(m.xs, w*m.n)\n",
    "plot!(dataprior)"
   ]
  },
  {
   "cell_type": "code",
   "execution_count": null,
   "metadata": {},
   "outputs": [],
   "source": [
    "plot()\n",
    "plotpriorpredictivedistr!(m,w)\n",
    "plotpriorpredictivedistr!(m,wtrue)"
   ]
  },
  {
   "cell_type": "markdown",
   "metadata": {},
   "source": [
    "# $M \\rightarrow \\infty$\n",
    "\n",
    "- error increases"
   ]
  },
  {
   "cell_type": "code",
   "execution_count": null,
   "metadata": {},
   "outputs": [],
   "source": [
    "function exp_ndata(ndata::Int, optc)\n",
    "  m = Model()\n",
    "  datas = generatedata(m, ndata)\n",
    "  w = ebprior(m, datas, 0, optc)\n",
    "  global opthist\n",
    "  w, opthist, norm(w-wtrue)/m.n, datas\n",
    "end\n",
    "\n",
    "c = GynC.OptConfig(XTOLABS=1e-5)\n",
    "ndatarange = round.(Int,logspace(0,4,12))\n",
    "t = @elapsed(exps = map(n->exp_ndata(n,c), ndatarange));"
   ]
  },
  {
   "cell_type": "code",
   "execution_count": null,
   "metadata": {},
   "outputs": [],
   "source": [
    "@show t;\n",
    "plot(ndatarange, map(r->length(r[2]), exps),xaxis=:log10) |> display\n",
    "\n",
    "ws = getindex.(exps,[1])\n",
    "plot(ndatarange, map(w->norm(w - wtrue), ws),xaxis=:log)"
   ]
  },
  {
   "cell_type": "markdown",
   "metadata": {
    "collapsed": true
   },
   "source": [
    "# Convergence for different $\\gamma$"
   ]
  },
  {
   "cell_type": "code",
   "execution_count": null,
   "metadata": {},
   "outputs": [],
   "source": [
    "err(w) = norm(w - wtrue)\n",
    "\n",
    "gammas = [0,1,10,100,1000,10000]\n",
    "ndatas = 10.^collect(0:6)\n",
    "iters = 10\n",
    "c = GynC.OptConfig(FTOLREL=1e-6)\n",
    "\n",
    "ps = []\n",
    "@time for gamma in gammas \n",
    "  plot()\n",
    "  i=0\n",
    "  for ndata in ndatas\n",
    "    i+=1\n",
    "    errs = [err(ebprior(m, generatedata(m, ndata), gamma, c)) for i = 1:iters]\n",
    "    boxplot!([i],errs)\n",
    "  end\n",
    "  \n",
    "  push!(ps, plot!(legend=false, title=gamma, ylims=[0,.35]))\n",
    "end"
   ]
  },
  {
   "cell_type": "code",
   "execution_count": null,
   "metadata": {},
   "outputs": [],
   "source": [
    "pp = plot(ps...)"
   ]
  },
  {
   "cell_type": "code",
   "execution_count": null,
   "metadata": {
    "collapsed": true
   },
   "outputs": [],
   "source": []
  }
 ],
 "metadata": {
  "kernelspec": {
   "display_name": "Julia 0.6.2",
   "language": "julia",
   "name": "julia-0.6"
  },
  "language_info": {
   "file_extension": ".jl",
   "mimetype": "application/julia",
   "name": "julia",
   "version": "0.6.2"
  }
 },
 "nbformat": 4,
 "nbformat_minor": 2
}
